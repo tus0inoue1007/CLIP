{
 "cells": [
  {
   "cell_type": "code",
   "execution_count": 4,
   "metadata": {},
   "outputs": [
    {
     "name": "stdout",
     "output_type": "stream",
     "text": [
      "Torch version: 2.2.1+cu121\n"
     ]
    }
   ],
   "source": [
    "import numpy as np\n",
    "import torch\n",
    "import clip\n",
    "from tqdm.notebook import tqdm\n",
    "from pkg_resources import packaging\n",
    "\n",
    "print(\"Torch version:\", torch.__version__)"
   ]
  },
  {
   "cell_type": "code",
   "execution_count": 5,
   "metadata": {},
   "outputs": [],
   "source": [
    "model,preprocess = clip.load(\"ViT-B/32\")"
   ]
  },
  {
   "cell_type": "code",
   "execution_count": 6,
   "metadata": {},
   "outputs": [
    {
     "name": "stdout",
     "output_type": "stream",
     "text": [
      "loading annotations into memory...\n",
      "Done (t=0.04s)\n",
      "creating index...\n",
      "index created!\n",
      "loading annotations into memory...\n",
      "Done (t=0.56s)\n",
      "creating index...\n",
      "index created!\n",
      "loading annotations into memory...\n",
      "Done (t=0.18s)\n",
      "creating index...\n",
      "index created!\n"
     ]
    }
   ],
   "source": [
    "# COCOオブジェクトの作成\n",
    "from pycocotools.coco import COCO\n",
    "\n",
    "# キャプション生成用のアノテーション情報\n",
    "anno_path = \"data/coco/annotations/captions_val2017.json\"\n",
    "coco_cap = COCO(anno_path)\n",
    "# 物体検出用のアノテーション情報\n",
    "anno_path = \"data/coco/annotations/instances_val2017.json\"\n",
    "coco_ins = COCO(anno_path)\n",
    "# 姿勢推定用のアノテーション情報\n",
    "anno_path = \"data/coco/annotations/person_keypoints_val2017.json\"\n",
    "coco_key = COCO(anno_path)"
   ]
  },
  {
   "cell_type": "code",
   "execution_count": 9,
   "metadata": {},
   "outputs": [],
   "source": [
    "# 指定した画像 ID に対応する画像の情報を取得する\n",
    "img_id = coco_cap.getImgIds()[0]\n",
    "img_info = coco_cap.loadImgs(img_id)\n",
    "img_path = f\"data/coco/images/val2017/{img_info[0]['file_name']}\"\n",
    "\n",
    "\n",
    "# print(len(coco_cap.getImgIds())) # 5000\n",
    "# print(coco_cap.getImgIds()[:10])\n",
    "\n",
    "# print(img_info)\n",
    "# [{'license': 4, 'file_name': '000000397133.jpg', 'coco_url': 'http://images.cocodataset.org/val2017/000000397133.jpg', \n",
    "# 'height': 427, 'width': 640, 'date_captured': '2013-11-14 17:02:52', 'flickr_url': 'http://farm7.staticflickr.com/6116/6255196340_da26cf2c9e_z.jpg', 'id': 397133}"
   ]
  },
  {
   "cell_type": "code",
   "execution_count": null,
   "metadata": {},
   "outputs": [],
   "source": [
    "# アノテーション情報の可視化\n",
    "import matplotlib.pyplot as plt\n",
    "# 指定した画像IDに対応するアノテーションIDを取得する。\n",
    "anno_ids_cap = coco_cap.getAnnIds(img_id)\n",
    "anno_ids_ins = coco_ins.getAnnIds(img_id)\n",
    "anno_ids_key = coco_key.getAnnIds(img_id)\n",
    "\n",
    "# 指定したアノテーション ID に対応するアノテーションの情報を取得する。\n",
    "annos_cap = coco_cap.loadAnns(anno_ids_cap)\n",
    "annos_ins = coco_ins.loadAnns(anno_ids_ins)\n",
    "annos_key = coco_key.loadAnns(anno_ids_key)\n",
    "\n",
    "# 画像とアノテーション結果の描写\n",
    "img = plt.imread(img_path)\n",
    "plt.imshow(img)\n",
    "coco_cap.showAnns(annos_cap)\n",
    "coco_ins.showAnns(annos_ins)\n",
    "coco_key.showAnns(annos_key)"
   ]
  },
  {
   "cell_type": "code",
   "execution_count": null,
   "metadata": {},
   "outputs": [],
   "source": [
    "\n",
    "# 物体検出用のアノテーション情報\n",
    "anno_val_path = \"data/coco/annotations/instances_val2017.json\"\n",
    "coco_ins_detection_val = COCO(anno_path)\n",
    "\n",
    "anno_train_path = \"data/coco/annotations/instances_val2017.json\"\n",
    "coco_ins_detection_train = COCO(anno_path)"
   ]
  }
 ],
 "metadata": {
  "kernelspec": {
   "display_name": "project1",
   "language": "python",
   "name": "python3"
  },
  "language_info": {
   "codemirror_mode": {
    "name": "ipython",
    "version": 3
   },
   "file_extension": ".py",
   "mimetype": "text/x-python",
   "name": "python",
   "nbconvert_exporter": "python",
   "pygments_lexer": "ipython3",
   "version": "3.11.7"
  }
 },
 "nbformat": 4,
 "nbformat_minor": 2
}
